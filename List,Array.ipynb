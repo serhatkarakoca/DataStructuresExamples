{
 "cells": [
  {
   "cell_type": "code",
   "execution_count": 1,
   "id": "0fdd3c6c",
   "metadata": {},
   "outputs": [
    {
     "name": "stdout",
     "output_type": "stream",
     "text": [
      "size : 0 Byte: 56\n",
      "size : 1 Byte: 88\n",
      "size : 2 Byte: 88\n",
      "size : 3 Byte: 88\n",
      "size : 4 Byte: 88\n",
      "size : 5 Byte: 120\n",
      "size : 6 Byte: 120\n",
      "size : 7 Byte: 120\n",
      "size : 8 Byte: 120\n",
      "size : 9 Byte: 184\n",
      "size : 10 Byte: 184\n",
      "size : 11 Byte: 184\n",
      "size : 12 Byte: 184\n",
      "size : 13 Byte: 184\n",
      "size : 14 Byte: 184\n",
      "size : 15 Byte: 184\n",
      "size : 16 Byte: 184\n",
      "size : 17 Byte: 248\n",
      "size : 18 Byte: 248\n",
      "size : 19 Byte: 248\n",
      "size : 20 Byte: 248\n",
      "size : 21 Byte: 248\n",
      "size : 22 Byte: 248\n",
      "size : 23 Byte: 248\n",
      "size : 24 Byte: 248\n",
      "size : 25 Byte: 312\n",
      "size : 26 Byte: 312\n",
      "size : 27 Byte: 312\n",
      "size : 28 Byte: 312\n",
      "size : 29 Byte: 312\n"
     ]
    }
   ],
   "source": [
    "import sys\n",
    "\n",
    "myList = []\n",
    "n = 30\n",
    "for i in range(n):\n",
    "    length = len(myList)\n",
    "    byteOfList = sys.getsizeof(myList)\n",
    "    print(f\"size : {length} Byte: {byteOfList}\")\n",
    "    myList.append(i)\n",
    "    "
   ]
  },
  {
   "cell_type": "code",
   "execution_count": 2,
   "id": "a45d522b",
   "metadata": {},
   "outputs": [
    {
     "name": "stdout",
     "output_type": "stream",
     "text": [
      "<class 'array.array'>\n",
      "array('i', [1, 2, 3, 4, 5])\n"
     ]
    }
   ],
   "source": [
    "import array as arr\n",
    "\n",
    "myArray = arr.array(\"i\",[1,2,3,4,5])\n",
    "print(type(myArray))\n",
    "print(myArray)\n",
    "# \"i\" is a signed int type"
   ]
  },
  {
   "cell_type": "code",
   "execution_count": 3,
   "id": "57104ed0",
   "metadata": {},
   "outputs": [],
   "source": [
    "import numpy as np\n",
    "myArray = np.array([\"serhat\",2,4,5])\n",
    "# NumPy arrays support different data types\n"
   ]
  },
  {
   "cell_type": "code",
   "execution_count": null,
   "id": "a868fa50",
   "metadata": {},
   "outputs": [],
   "source": []
  }
 ],
 "metadata": {
  "kernelspec": {
   "display_name": "Python 3 (ipykernel)",
   "language": "python",
   "name": "python3"
  },
  "language_info": {
   "codemirror_mode": {
    "name": "ipython",
    "version": 3
   },
   "file_extension": ".py",
   "mimetype": "text/x-python",
   "name": "python",
   "nbconvert_exporter": "python",
   "pygments_lexer": "ipython3",
   "version": "3.10.7"
  }
 },
 "nbformat": 4,
 "nbformat_minor": 5
}
