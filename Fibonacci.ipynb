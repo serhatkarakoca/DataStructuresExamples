{
 "cells": [
  {
   "cell_type": "code",
   "execution_count": 2,
   "id": "a73a9e4d",
   "metadata": {},
   "outputs": [],
   "source": [
    "# Fibonacci examples"
   ]
  },
  {
   "cell_type": "code",
   "execution_count": 24,
   "id": "a7ba5c3f",
   "metadata": {},
   "outputs": [],
   "source": [
    "# Recursive\n",
    "\n",
    "def recursiveFib(n:int) -> int:\n",
    "    if n == 0 or n == 1:\n",
    "        return n\n",
    "    else:\n",
    "        return recursiveFib(n-1) + recursiveFib(n-2)"
   ]
  },
  {
   "cell_type": "code",
   "execution_count": 29,
   "id": "8a4896d3",
   "metadata": {},
   "outputs": [
    {
     "name": "stdout",
     "output_type": "stream",
     "text": [
      "1\n"
     ]
    }
   ],
   "source": [
    "print(recursiveFib(2))"
   ]
  },
  {
   "cell_type": "code",
   "execution_count": null,
   "id": "e2240361",
   "metadata": {},
   "outputs": [],
   "source": []
  },
  {
   "cell_type": "code",
   "execution_count": null,
   "id": "2cb5a680",
   "metadata": {},
   "outputs": [],
   "source": []
  },
  {
   "cell_type": "code",
   "execution_count": null,
   "id": "5b5475a6",
   "metadata": {},
   "outputs": [],
   "source": []
  }
 ],
 "metadata": {
  "kernelspec": {
   "display_name": "Python 3 (ipykernel)",
   "language": "python",
   "name": "python3"
  },
  "language_info": {
   "codemirror_mode": {
    "name": "ipython",
    "version": 3
   },
   "file_extension": ".py",
   "mimetype": "text/x-python",
   "name": "python",
   "nbconvert_exporter": "python",
   "pygments_lexer": "ipython3",
   "version": "3.10.7"
  }
 },
 "nbformat": 4,
 "nbformat_minor": 5
}
