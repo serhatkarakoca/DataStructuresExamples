{
 "cells": [
  {
   "cell_type": "code",
   "execution_count": 1,
   "id": "9380091e",
   "metadata": {},
   "outputs": [],
   "source": [
    "# binary search tree"
   ]
  },
  {
   "cell_type": "code",
   "execution_count": 155,
   "id": "2291b324",
   "metadata": {},
   "outputs": [],
   "source": [
    "class Node:\n",
    "    def __init__(self, value):\n",
    "        self.value = value\n",
    "        self.left = None\n",
    "        self.right = None\n",
    "    "
   ]
  },
  {
   "cell_type": "code",
   "execution_count": 190,
   "id": "c6b55f7f",
   "metadata": {},
   "outputs": [],
   "source": [
    "class BinarySearchTree:\n",
    "    def __init__(self):\n",
    "        self.root = None\n",
    "        \n",
    "    def insert(self, value):\n",
    "        newNode = Node(value)\n",
    "        \n",
    "        if self.root is None:\n",
    "            self.root = newNode\n",
    "            return True\n",
    "        \n",
    "        tempNode = self.root\n",
    "        \n",
    "        while True:\n",
    "            \n",
    "            if tempNode.value == newNode.value:\n",
    "                return False\n",
    "            \n",
    "            if newNode.value < tempNode.value:\n",
    "                if tempNode.left is None:\n",
    "                    tempNode.left = newNode\n",
    "                    return True\n",
    "                tempNode = tempNode.left\n",
    "                \n",
    "            else:\n",
    "                if tempNode.right is None:\n",
    "                    tempNode.right = newNode\n",
    "                    return True\n",
    "                tempNode = tempNode.right\n",
    "        \n",
    "    def contains(self, value):\n",
    "        tempNode = self.root\n",
    "            \n",
    "        while tempNode:   #tempNode null olmadığı sürece\n",
    "            if value < tempNode.value:\n",
    "                tempNode = tempNode.left\n",
    "            elif value > tempNode.value:\n",
    "                tempNode = tempNode.right\n",
    "            else:\n",
    "                return True\n",
    "            return False\n",
    "        \n",
    "    def minOfNode(self):\n",
    "        tempNode = self.root\n",
    "        while tempNode.left:\n",
    "            tempNode = tempNode.left\n",
    "        return tempNode.value\n",
    "    \n",
    "    def maxOfNode(self):\n",
    "        tempNode = self.root\n",
    "        while tempNode.right:\n",
    "            tempNode = tempNode.right\n",
    "        return tempNode.value"
   ]
  },
  {
   "cell_type": "code",
   "execution_count": 191,
   "id": "01d5d82c",
   "metadata": {},
   "outputs": [
    {
     "data": {
      "text/plain": [
       "True"
      ]
     },
     "execution_count": 191,
     "metadata": {},
     "output_type": "execute_result"
    }
   ],
   "source": [
    "myTree = BinarySearchTree()\n",
    "myTree.insert(60)"
   ]
  },
  {
   "cell_type": "code",
   "execution_count": 192,
   "id": "86b4db17",
   "metadata": {},
   "outputs": [
    {
     "data": {
      "text/plain": [
       "True"
      ]
     },
     "execution_count": 192,
     "metadata": {},
     "output_type": "execute_result"
    }
   ],
   "source": [
    "myTree.insert(40)"
   ]
  },
  {
   "cell_type": "code",
   "execution_count": 193,
   "id": "859ad885",
   "metadata": {},
   "outputs": [
    {
     "data": {
      "text/plain": [
       "40"
      ]
     },
     "execution_count": 193,
     "metadata": {},
     "output_type": "execute_result"
    }
   ],
   "source": [
    "myTree.root.left.value"
   ]
  },
  {
   "cell_type": "code",
   "execution_count": 194,
   "id": "cfc6dbbd",
   "metadata": {},
   "outputs": [
    {
     "data": {
      "text/plain": [
       "40"
      ]
     },
     "execution_count": 194,
     "metadata": {},
     "output_type": "execute_result"
    }
   ],
   "source": [
    "myTree.minOfNode()"
   ]
  },
  {
   "cell_type": "code",
   "execution_count": 195,
   "id": "ea7b3f2a",
   "metadata": {},
   "outputs": [
    {
     "data": {
      "text/plain": [
       "True"
      ]
     },
     "execution_count": 195,
     "metadata": {},
     "output_type": "execute_result"
    }
   ],
   "source": [
    "myTree.insert(10)"
   ]
  },
  {
   "cell_type": "code",
   "execution_count": 196,
   "id": "dc9a2dcd",
   "metadata": {},
   "outputs": [
    {
     "data": {
      "text/plain": [
       "True"
      ]
     },
     "execution_count": 196,
     "metadata": {},
     "output_type": "execute_result"
    }
   ],
   "source": [
    "myTree.insert(70)"
   ]
  },
  {
   "cell_type": "code",
   "execution_count": 197,
   "id": "7da01ef5",
   "metadata": {},
   "outputs": [
    {
     "data": {
      "text/plain": [
       "70"
      ]
     },
     "execution_count": 197,
     "metadata": {},
     "output_type": "execute_result"
    }
   ],
   "source": [
    "myTree.root.right.value"
   ]
  },
  {
   "cell_type": "code",
   "execution_count": 198,
   "id": "51c49cf2",
   "metadata": {},
   "outputs": [
    {
     "data": {
      "text/plain": [
       "10"
      ]
     },
     "execution_count": 198,
     "metadata": {},
     "output_type": "execute_result"
    }
   ],
   "source": [
    "\n",
    "myTree.minOfNode()"
   ]
  },
  {
   "cell_type": "code",
   "execution_count": 199,
   "id": "f61c45f8",
   "metadata": {},
   "outputs": [
    {
     "data": {
      "text/plain": [
       "70"
      ]
     },
     "execution_count": 199,
     "metadata": {},
     "output_type": "execute_result"
    }
   ],
   "source": [
    "myTree.maxOfNode()"
   ]
  }
 ],
 "metadata": {
  "kernelspec": {
   "display_name": "Python 3 (ipykernel)",
   "language": "python",
   "name": "python3"
  },
  "language_info": {
   "codemirror_mode": {
    "name": "ipython",
    "version": 3
   },
   "file_extension": ".py",
   "mimetype": "text/x-python",
   "name": "python",
   "nbconvert_exporter": "python",
   "pygments_lexer": "ipython3",
   "version": "3.10.7"
  }
 },
 "nbformat": 4,
 "nbformat_minor": 5
}
